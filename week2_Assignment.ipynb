{
  "nbformat": 4,
  "nbformat_minor": 0,
  "metadata": {
    "colab": {
      "provenance": []
    },
    "kernelspec": {
      "name": "python3",
      "display_name": "Python 3"
    },
    "language_info": {
      "name": "python"
    }
  },
  "cells": [
    {
      "cell_type": "code",
      "execution_count": null,
      "metadata": {
        "id": "t0b0udpZugdb"
      },
      "outputs": [],
      "source": [
        " # Q1- How do you comment code in Python? What are the different types of comments?\n",
        "\n",
        " \"\"\" In Python, comments are used to add explanatory notes within the code to make it more readable and understandable.\n",
        "  Comments are ignored by the Python interpreter and have no effect on the execution of the program.\n",
        "  To comment code in Python, you can use the \"#\" symbol. Anything after the \"#\" symbol on the same line will be treated as a comment.\n",
        "  There are two types of comments in Python:\n",
        "  1- SINGLE LINE COMMENT\n",
        "  2- MULTILINE COMMENT \"\"\"\n",
        "  # This is a single-line comment in Python\n",
        "\n",
        "  \"\"\"\n",
        "This is a multi-line comment in Python.\n",
        "It can span multiple lines without the need for '#' on each line.\n",
        "\"\"\"\n"
      ]
    },
    {
      "cell_type": "code",
      "source": [
        "# Q2-  What are variables in Python? How do you declare and assign values to variables?\n",
        "\n",
        "In Python, variables are used to store data values in memory.\n",
        "\n",
        "variable_name = value\n",
        "# Integer variable\n",
        "age = 25\n",
        "\n",
        "# Float variable\n",
        "pi = 3.14159\n",
        "\n",
        "# String variable\n",
        "name = \"John Doe\"\n",
        "\n",
        "# Boolean variable\n",
        "is_student = True\n",
        "\n",
        "# List variable\n",
        "numbers = [1, 2, 3, 4, 5]\n",
        "\n",
        "# Tuple variable\n",
        "point = (10, 20)\n",
        "\n",
        "# Dictionary variable\n",
        "person = {\"name\": \"Alice\", \"age\": 30}\n"
      ],
      "metadata": {
        "id": "NHwITb8DvQ1V"
      },
      "execution_count": null,
      "outputs": []
    },
    {
      "cell_type": "code",
      "source": [
        "#Q3-. How do you convert one data type to another in Python?\n",
        "\n",
        "In Python, we can convert one data type to another using type conversion functions or methods.\n",
        "\n",
        "int(): This function is used to convert a value to an integer data type.\n",
        "python\n",
        "\n",
        "float_number = 3.14\n",
        "integer_number = int(float_number)\n",
        "print(integer_number)  # Output: 3\n",
        "\n",
        "float(): This function converts a value to a floating-point number.\n",
        "python\n",
        "\n",
        "integer_number = 5\n",
        "float_number = float(integer_number)\n",
        "print(float_number)  # Output: 5.0\n",
        "\n",
        "str(): This function converts a value to a string data type.\n",
        "python\n",
        "\n",
        "age = 25\n",
        "age_str = str(age)\n",
        "print(\"Age: \" + age_str)  # Output: Age: 25\n",
        "list(), tuple(), set(): These functions are used to convert other iterable objects like strings, tuples, or sets to lists, tuples, or sets, respectively.\n",
        "python\n",
        "\n",
        "string_value = \"hello\"\n",
        "list_value = list(string_value)\n",
        "print(list_value)  # Output: ['h', 'e', 'l', 'l', 'o']\n",
        "\n",
        "tuple_value = (1, 2, 3)\n",
        "set_value = set(tuple_value)\n",
        "print(set_value)  # Output: {1, 2, 3}\n",
        "dict(): This function can be used to convert a sequence of key-value pairs (as tuples) into a dictionary.\n",
        "python\n",
        "\n",
        "key_value_pairs = [(1, 'one'), (2, 'two'), (3, 'three')]\n",
        "dictionary = dict(key_value_pairs)\n",
        "print(dictionary)  # Output: {1: 'one', 2: 'two', 3: 'thre\n",
        "\n"
      ],
      "metadata": {
        "id": "4SV6FHcEwvr0"
      },
      "execution_count": null,
      "outputs": []
    },
    {
      "cell_type": "code",
      "source": [
        "#Q4-How do you write and execute a Python script from the command line?\n",
        "\n",
        "To write and execute a Python script from the command line,\n",
        " we'll need a text editor to create the script and the Python interpreter installed on our system to run it.\n",
        " Here's a step-by-step guide:\n",
        "\n",
        "1-Open a text editor\n",
        "2-Write the Python script\n",
        "3-Open the command line or terminal\n",
        "4-Navigate to the script's directory\n",
        "5-Execute the Python script"
      ],
      "metadata": {
        "id": "5i_q_4kJx6bJ"
      },
      "execution_count": null,
      "outputs": []
    },
    {
      "cell_type": "code",
      "source": [
        "#Q5-Given a list my_list = [1, 2, 3, 4, 5], write the code to slice the list and obtain the sub-list [2, 3].\n",
        "\n",
        "my_list = [1,2,3,4,5]\n",
        "sub_list =list(my_list[1:3])\n",
        "print( \"sub list\"  , sub_list)\n"
      ],
      "metadata": {
        "colab": {
          "base_uri": "https://localhost:8080/"
        },
        "id": "zuatmLCGx6oe",
        "outputId": "0d933c9c-cf55-44c2-e6b6-0d211fb47aea"
      },
      "execution_count": null,
      "outputs": [
        {
          "output_type": "stream",
          "name": "stdout",
          "text": [
            "sub list [2, 3]\n"
          ]
        }
      ]
    },
    {
      "cell_type": "code",
      "source": [
        "#Q6-What is a complex number in mathematics, and how is it represented in Python?\n",
        "\n",
        "Complex number is that number which have both of real and imaginary part.\n",
        " complex number can represent in python- a+bj- where a abd b is real nummber AND j is imaginary unit."
      ],
      "metadata": {
        "id": "PcC_R7IEx6r3"
      },
      "execution_count": null,
      "outputs": []
    },
    {
      "cell_type": "code",
      "source": [
        "#Q7-What is the correct way to declare a variable named age and assign the value 25 to it?\n",
        "\n",
        "In Python, the correct way to declare a variable named age and assign the value 25 to it is by using the assignment operator =.\n",
        "age = 25"
      ],
      "metadata": {
        "id": "ISnQAlNd4Bem"
      },
      "execution_count": null,
      "outputs": []
    },
    {
      "cell_type": "code",
      "source": [
        "#Q8- Declare a variable named price and assign the value 9.99 to it.\n",
        " #  What data type does this variable belong to?\n",
        "\n",
        " In Python, when you declare a variable named price and assign the value 9.99 to it,\n",
        "  the data type of this variable will be a floating-point number (float)."
      ],
      "metadata": {
        "id": "MFj6IPs5d7Cf"
      },
      "execution_count": null,
      "outputs": []
    },
    {
      "cell_type": "code",
      "source": [
        "#Q9-Create a variable named name and assign your full name to it as a string. How would you print the\n",
        "#  value of this variable?\n",
        "\n",
        "name = \"Susheel kumar\"\n",
        "print(name)\n",
        "\n"
      ],
      "metadata": {
        "colab": {
          "base_uri": "https://localhost:8080/"
        },
        "id": "8aoY0zc_elKr",
        "outputId": "d3085d25-5b15-48a9-b638-f462d6a7527e"
      },
      "execution_count": 2,
      "outputs": [
        {
          "output_type": "stream",
          "name": "stdout",
          "text": [
            "Susheel kumar\n"
          ]
        }
      ]
    },
    {
      "cell_type": "code",
      "source": [
        "#Q10-Given the string \"Hello, World!\", extract the substring \"World\"\n",
        "\n",
        "str = \"Hello, World\"\n",
        "i = str[7:12]\n",
        "print(i)"
      ],
      "metadata": {
        "colab": {
          "base_uri": "https://localhost:8080/"
        },
        "id": "776gbfqweld_",
        "outputId": "980bf997-196b-4446-b94a-b0ce6b3f541e"
      },
      "execution_count": 4,
      "outputs": [
        {
          "output_type": "stream",
          "name": "stdout",
          "text": [
            "World\n"
          ]
        }
      ]
    },
    {
      "cell_type": "code",
      "source": [
        "#Q11-Create a variable named \"is_student\" and assign it a boolean value indicating whether you are\n",
        " #  currently a student or not.\n",
        "\n",
        "is_student = bool(input(\"enter data\"))\n",
        "if is_student == True:\n",
        "  print(\"you are a student\")\n",
        "else:\n",
        "  print(\"you are not a student\")\n",
        "\n"
      ],
      "metadata": {
        "colab": {
          "base_uri": "https://localhost:8080/"
        },
        "id": "Ut_hpiLId7Pj",
        "outputId": "941eeb68-a208-4295-e017-18e135a5a14d"
      },
      "execution_count": 20,
      "outputs": [
        {
          "output_type": "stream",
          "name": "stdout",
          "text": [
            "enter dataTrue\n",
            "you are a student\n"
          ]
        }
      ]
    },
    {
      "cell_type": "code",
      "source": [],
      "metadata": {
        "id": "aswuLRrXjHKm"
      },
      "execution_count": null,
      "outputs": []
    }
  ]
}